{
  "nbformat": 4,
  "nbformat_minor": 0,
  "metadata": {
    "colab": {
      "provenance": []
    },
    "kernelspec": {
      "name": "python3",
      "display_name": "Python 3"
    },
    "language_info": {
      "name": "python"
    }
  },
  "cells": [
    {
      "cell_type": "markdown",
      "source": [
        "#**Programming Assignment 3**\n",
        "**LOGISTIC REGRESSION**\n",
        "\n",
        "\n",
        "---\n",
        "\n"
      ],
      "metadata": {
        "id": "eMAWxsVMaEd1"
      }
    },
    {
      "cell_type": "markdown",
      "source": [
        "*In this programming project, we will use the Wisconsin Breast Cancer dataset to create a logistic regression model for classifying breast cancers. This dataset, provided from the UCI Machine Learning Repository, has 699 breast tumor examples with characteristics such as clump thickness, homogeneity of cell size and shape, and mitoses, among others. The major purpose is to preprocess the data, create a logistic regression model, and test its ability to discriminate between benign and malignant tumors. To train the model, divide the dataset into training and testing sets, scale it according to conventional rules, and utilize logistic regression. The project also requires creating a confusion matrix, calculating several performance indicators, and visualizing the ROC curve to assess the model's accuracy and efficacy.*"
      ],
      "metadata": {
        "id": "b0WGiCxjp3rb"
      }
    },
    {
      "cell_type": "code",
      "execution_count": null,
      "metadata": {
        "colab": {
          "base_uri": "https://localhost:8080/"
        },
        "id": "NEk5Io6dY9bz",
        "outputId": "b08e5995-565e-4a0d-ad82-38ff69d8620d"
      },
      "outputs": [
        {
          "output_type": "stream",
          "name": "stdout",
          "text": [
            "Requirement already satisfied: ucimlrepo in /usr/local/lib/python3.10/dist-packages (0.0.7)\n",
            "Requirement already satisfied: pandas>=1.0.0 in /usr/local/lib/python3.10/dist-packages (from ucimlrepo) (2.2.2)\n",
            "Requirement already satisfied: certifi>=2020.12.5 in /usr/local/lib/python3.10/dist-packages (from ucimlrepo) (2024.12.14)\n",
            "Requirement already satisfied: numpy>=1.22.4 in /usr/local/lib/python3.10/dist-packages (from pandas>=1.0.0->ucimlrepo) (1.26.4)\n",
            "Requirement already satisfied: python-dateutil>=2.8.2 in /usr/local/lib/python3.10/dist-packages (from pandas>=1.0.0->ucimlrepo) (2.8.2)\n",
            "Requirement already satisfied: pytz>=2020.1 in /usr/local/lib/python3.10/dist-packages (from pandas>=1.0.0->ucimlrepo) (2024.2)\n",
            "Requirement already satisfied: tzdata>=2022.7 in /usr/local/lib/python3.10/dist-packages (from pandas>=1.0.0->ucimlrepo) (2024.2)\n",
            "Requirement already satisfied: six>=1.5 in /usr/local/lib/python3.10/dist-packages (from python-dateutil>=2.8.2->pandas>=1.0.0->ucimlrepo) (1.17.0)\n"
          ]
        }
      ],
      "source": [
        "# Install and load the dataset from the UCI ML repository\n",
        "!pip install ucimlrepo"
      ]
    },
    {
      "cell_type": "code",
      "source": [
        "from ucimlrepo import fetch_ucirepo\n",
        "\n",
        "# Fetch the breast cancer dataset\n",
        "breast_cancer = fetch_ucirepo(id=17)\n",
        "\n",
        "# Use only the mean values for each feature\n",
        "x = breast_cancer.data.features\n",
        "x = x.filter(regex='1$')\n",
        "y = breast_cancer.data.targets"
      ],
      "metadata": {
        "id": "gvBN-9nIb3YE"
      },
      "execution_count": null,
      "outputs": []
    },
    {
      "cell_type": "markdown",
      "source": [
        "*This code fetches the breast cancer dataset from the UCI repository, selects only the mean values for each feature, and assigns the target labels to y.*"
      ],
      "metadata": {
        "id": "8Plbgqz1qL95"
      }
    },
    {
      "cell_type": "code",
      "source": [
        "#Import Required Libraries\n",
        "import pandas as pd\n",
        "import numpy as np\n",
        "import seaborn as sns\n",
        "import matplotlib.pyplot as plt\n",
        "from sklearn.model_selection import train_test_split\n",
        "from sklearn.pipeline import Pipeline\n",
        "from sklearn.preprocessing import StandardScaler\n",
        "from sklearn.linear_model import LogisticRegression\n",
        "from sklearn.metrics import confusion_matrix, ConfusionMatrixDisplay\n",
        "from sklearn.metrics import roc_curve, roc_auc_score"
      ],
      "metadata": {
        "id": "jFpZtOpfcZt8"
      },
      "execution_count": null,
      "outputs": []
    },
    {
      "cell_type": "markdown",
      "source": [
        "*This code imports essential libraries for data manipulation (pandas, numpy), visualization (seaborn, matplotlib), machine learning model training and evaluation (sklearn), including logistic regression, data scaling, model evaluation metrics, and plotting.*"
      ],
      "metadata": {
        "id": "m4eyr5iOqXgK"
      }
    },
    {
      "cell_type": "markdown",
      "source": [
        "#**Part 2: Exploratory Data Analysis**\n",
        "\n",
        "\n",
        "---\n",
        "\n"
      ],
      "metadata": {
        "id": "Xz3YeOJGc1ZE"
      }
    },
    {
      "cell_type": "code",
      "source": [
        "#Print the metadata information:\n",
        "print(str(breast_cancer.metadata.additional_info.variable_info))"
      ],
      "metadata": {
        "colab": {
          "base_uri": "https://localhost:8080/"
        },
        "id": "U4eOjpvCci2U",
        "outputId": "745e10cd-646e-426c-dbdb-e5ba83c0d02c"
      },
      "execution_count": null,
      "outputs": [
        {
          "output_type": "stream",
          "name": "stdout",
          "text": [
            "1) ID number\r\n",
            "2) Diagnosis (M = malignant, B = benign)\r\n",
            "3-32)\r\n",
            "\r\n",
            "Ten real-valued features are computed for each cell nucleus:\r\n",
            "\r\n",
            "\ta) radius (mean of distances from center to points on the perimeter)\r\n",
            "\tb) texture (standard deviation of gray-scale values)\r\n",
            "\tc) perimeter\r\n",
            "\td) area\r\n",
            "\te) smoothness (local variation in radius lengths)\r\n",
            "\tf) compactness (perimeter^2 / area - 1.0)\r\n",
            "\tg) concavity (severity of concave portions of the contour)\r\n",
            "\th) concave points (number of concave portions of the contour)\r\n",
            "\ti) symmetry \r\n",
            "\tj) fractal dimension (\"coastline approximation\" - 1)\n"
          ]
        }
      ]
    },
    {
      "cell_type": "code",
      "source": [
        "#Display the first few rows of the features:\n",
        "x.head()"
      ],
      "metadata": {
        "colab": {
          "base_uri": "https://localhost:8080/",
          "height": 206
        },
        "id": "Hj_qvDvTc8t4",
        "outputId": "3a0d4090-f8b4-4eb2-9e34-77e536f25809"
      },
      "execution_count": null,
      "outputs": [
        {
          "output_type": "execute_result",
          "data": {
            "text/plain": [
              "   radius1  texture1  perimeter1   area1  smoothness1  compactness1  \\\n",
              "0    17.99     10.38      122.80  1001.0      0.11840       0.27760   \n",
              "1    20.57     17.77      132.90  1326.0      0.08474       0.07864   \n",
              "2    19.69     21.25      130.00  1203.0      0.10960       0.15990   \n",
              "3    11.42     20.38       77.58   386.1      0.14250       0.28390   \n",
              "4    20.29     14.34      135.10  1297.0      0.10030       0.13280   \n",
              "\n",
              "   concavity1  concave_points1  symmetry1  fractal_dimension1  \n",
              "0      0.3001          0.14710     0.2419             0.07871  \n",
              "1      0.0869          0.07017     0.1812             0.05667  \n",
              "2      0.1974          0.12790     0.2069             0.05999  \n",
              "3      0.2414          0.10520     0.2597             0.09744  \n",
              "4      0.1980          0.10430     0.1809             0.05883  "
            ],
            "text/html": [
              "\n",
              "  <div id=\"df-4e78be89-ed9c-447f-b4ae-5106e29be8a2\" class=\"colab-df-container\">\n",
              "    <div>\n",
              "<style scoped>\n",
              "    .dataframe tbody tr th:only-of-type {\n",
              "        vertical-align: middle;\n",
              "    }\n",
              "\n",
              "    .dataframe tbody tr th {\n",
              "        vertical-align: top;\n",
              "    }\n",
              "\n",
              "    .dataframe thead th {\n",
              "        text-align: right;\n",
              "    }\n",
              "</style>\n",
              "<table border=\"1\" class=\"dataframe\">\n",
              "  <thead>\n",
              "    <tr style=\"text-align: right;\">\n",
              "      <th></th>\n",
              "      <th>radius1</th>\n",
              "      <th>texture1</th>\n",
              "      <th>perimeter1</th>\n",
              "      <th>area1</th>\n",
              "      <th>smoothness1</th>\n",
              "      <th>compactness1</th>\n",
              "      <th>concavity1</th>\n",
              "      <th>concave_points1</th>\n",
              "      <th>symmetry1</th>\n",
              "      <th>fractal_dimension1</th>\n",
              "    </tr>\n",
              "  </thead>\n",
              "  <tbody>\n",
              "    <tr>\n",
              "      <th>0</th>\n",
              "      <td>17.99</td>\n",
              "      <td>10.38</td>\n",
              "      <td>122.80</td>\n",
              "      <td>1001.0</td>\n",
              "      <td>0.11840</td>\n",
              "      <td>0.27760</td>\n",
              "      <td>0.3001</td>\n",
              "      <td>0.14710</td>\n",
              "      <td>0.2419</td>\n",
              "      <td>0.07871</td>\n",
              "    </tr>\n",
              "    <tr>\n",
              "      <th>1</th>\n",
              "      <td>20.57</td>\n",
              "      <td>17.77</td>\n",
              "      <td>132.90</td>\n",
              "      <td>1326.0</td>\n",
              "      <td>0.08474</td>\n",
              "      <td>0.07864</td>\n",
              "      <td>0.0869</td>\n",
              "      <td>0.07017</td>\n",
              "      <td>0.1812</td>\n",
              "      <td>0.05667</td>\n",
              "    </tr>\n",
              "    <tr>\n",
              "      <th>2</th>\n",
              "      <td>19.69</td>\n",
              "      <td>21.25</td>\n",
              "      <td>130.00</td>\n",
              "      <td>1203.0</td>\n",
              "      <td>0.10960</td>\n",
              "      <td>0.15990</td>\n",
              "      <td>0.1974</td>\n",
              "      <td>0.12790</td>\n",
              "      <td>0.2069</td>\n",
              "      <td>0.05999</td>\n",
              "    </tr>\n",
              "    <tr>\n",
              "      <th>3</th>\n",
              "      <td>11.42</td>\n",
              "      <td>20.38</td>\n",
              "      <td>77.58</td>\n",
              "      <td>386.1</td>\n",
              "      <td>0.14250</td>\n",
              "      <td>0.28390</td>\n",
              "      <td>0.2414</td>\n",
              "      <td>0.10520</td>\n",
              "      <td>0.2597</td>\n",
              "      <td>0.09744</td>\n",
              "    </tr>\n",
              "    <tr>\n",
              "      <th>4</th>\n",
              "      <td>20.29</td>\n",
              "      <td>14.34</td>\n",
              "      <td>135.10</td>\n",
              "      <td>1297.0</td>\n",
              "      <td>0.10030</td>\n",
              "      <td>0.13280</td>\n",
              "      <td>0.1980</td>\n",
              "      <td>0.10430</td>\n",
              "      <td>0.1809</td>\n",
              "      <td>0.05883</td>\n",
              "    </tr>\n",
              "  </tbody>\n",
              "</table>\n",
              "</div>\n",
              "    <div class=\"colab-df-buttons\">\n",
              "\n",
              "  <div class=\"colab-df-container\">\n",
              "    <button class=\"colab-df-convert\" onclick=\"convertToInteractive('df-4e78be89-ed9c-447f-b4ae-5106e29be8a2')\"\n",
              "            title=\"Convert this dataframe to an interactive table.\"\n",
              "            style=\"display:none;\">\n",
              "\n",
              "  <svg xmlns=\"http://www.w3.org/2000/svg\" height=\"24px\" viewBox=\"0 -960 960 960\">\n",
              "    <path d=\"M120-120v-720h720v720H120Zm60-500h600v-160H180v160Zm220 220h160v-160H400v160Zm0 220h160v-160H400v160ZM180-400h160v-160H180v160Zm440 0h160v-160H620v160ZM180-180h160v-160H180v160Zm440 0h160v-160H620v160Z\"/>\n",
              "  </svg>\n",
              "    </button>\n",
              "\n",
              "  <style>\n",
              "    .colab-df-container {\n",
              "      display:flex;\n",
              "      gap: 12px;\n",
              "    }\n",
              "\n",
              "    .colab-df-convert {\n",
              "      background-color: #E8F0FE;\n",
              "      border: none;\n",
              "      border-radius: 50%;\n",
              "      cursor: pointer;\n",
              "      display: none;\n",
              "      fill: #1967D2;\n",
              "      height: 32px;\n",
              "      padding: 0 0 0 0;\n",
              "      width: 32px;\n",
              "    }\n",
              "\n",
              "    .colab-df-convert:hover {\n",
              "      background-color: #E2EBFA;\n",
              "      box-shadow: 0px 1px 2px rgba(60, 64, 67, 0.3), 0px 1px 3px 1px rgba(60, 64, 67, 0.15);\n",
              "      fill: #174EA6;\n",
              "    }\n",
              "\n",
              "    .colab-df-buttons div {\n",
              "      margin-bottom: 4px;\n",
              "    }\n",
              "\n",
              "    [theme=dark] .colab-df-convert {\n",
              "      background-color: #3B4455;\n",
              "      fill: #D2E3FC;\n",
              "    }\n",
              "\n",
              "    [theme=dark] .colab-df-convert:hover {\n",
              "      background-color: #434B5C;\n",
              "      box-shadow: 0px 1px 3px 1px rgba(0, 0, 0, 0.15);\n",
              "      filter: drop-shadow(0px 1px 2px rgba(0, 0, 0, 0.3));\n",
              "      fill: #FFFFFF;\n",
              "    }\n",
              "  </style>\n",
              "\n",
              "    <script>\n",
              "      const buttonEl =\n",
              "        document.querySelector('#df-4e78be89-ed9c-447f-b4ae-5106e29be8a2 button.colab-df-convert');\n",
              "      buttonEl.style.display =\n",
              "        google.colab.kernel.accessAllowed ? 'block' : 'none';\n",
              "\n",
              "      async function convertToInteractive(key) {\n",
              "        const element = document.querySelector('#df-4e78be89-ed9c-447f-b4ae-5106e29be8a2');\n",
              "        const dataTable =\n",
              "          await google.colab.kernel.invokeFunction('convertToInteractive',\n",
              "                                                    [key], {});\n",
              "        if (!dataTable) return;\n",
              "\n",
              "        const docLinkHtml = 'Like what you see? Visit the ' +\n",
              "          '<a target=\"_blank\" href=https://colab.research.google.com/notebooks/data_table.ipynb>data table notebook</a>'\n",
              "          + ' to learn more about interactive tables.';\n",
              "        element.innerHTML = '';\n",
              "        dataTable['output_type'] = 'display_data';\n",
              "        await google.colab.output.renderOutput(dataTable, element);\n",
              "        const docLink = document.createElement('div');\n",
              "        docLink.innerHTML = docLinkHtml;\n",
              "        element.appendChild(docLink);\n",
              "      }\n",
              "    </script>\n",
              "  </div>\n",
              "\n",
              "\n",
              "<div id=\"df-9aad146b-f441-42ef-89a9-756bd9a4f670\">\n",
              "  <button class=\"colab-df-quickchart\" onclick=\"quickchart('df-9aad146b-f441-42ef-89a9-756bd9a4f670')\"\n",
              "            title=\"Suggest charts\"\n",
              "            style=\"display:none;\">\n",
              "\n",
              "<svg xmlns=\"http://www.w3.org/2000/svg\" height=\"24px\"viewBox=\"0 0 24 24\"\n",
              "     width=\"24px\">\n",
              "    <g>\n",
              "        <path d=\"M19 3H5c-1.1 0-2 .9-2 2v14c0 1.1.9 2 2 2h14c1.1 0 2-.9 2-2V5c0-1.1-.9-2-2-2zM9 17H7v-7h2v7zm4 0h-2V7h2v10zm4 0h-2v-4h2v4z\"/>\n",
              "    </g>\n",
              "</svg>\n",
              "  </button>\n",
              "\n",
              "<style>\n",
              "  .colab-df-quickchart {\n",
              "      --bg-color: #E8F0FE;\n",
              "      --fill-color: #1967D2;\n",
              "      --hover-bg-color: #E2EBFA;\n",
              "      --hover-fill-color: #174EA6;\n",
              "      --disabled-fill-color: #AAA;\n",
              "      --disabled-bg-color: #DDD;\n",
              "  }\n",
              "\n",
              "  [theme=dark] .colab-df-quickchart {\n",
              "      --bg-color: #3B4455;\n",
              "      --fill-color: #D2E3FC;\n",
              "      --hover-bg-color: #434B5C;\n",
              "      --hover-fill-color: #FFFFFF;\n",
              "      --disabled-bg-color: #3B4455;\n",
              "      --disabled-fill-color: #666;\n",
              "  }\n",
              "\n",
              "  .colab-df-quickchart {\n",
              "    background-color: var(--bg-color);\n",
              "    border: none;\n",
              "    border-radius: 50%;\n",
              "    cursor: pointer;\n",
              "    display: none;\n",
              "    fill: var(--fill-color);\n",
              "    height: 32px;\n",
              "    padding: 0;\n",
              "    width: 32px;\n",
              "  }\n",
              "\n",
              "  .colab-df-quickchart:hover {\n",
              "    background-color: var(--hover-bg-color);\n",
              "    box-shadow: 0 1px 2px rgba(60, 64, 67, 0.3), 0 1px 3px 1px rgba(60, 64, 67, 0.15);\n",
              "    fill: var(--button-hover-fill-color);\n",
              "  }\n",
              "\n",
              "  .colab-df-quickchart-complete:disabled,\n",
              "  .colab-df-quickchart-complete:disabled:hover {\n",
              "    background-color: var(--disabled-bg-color);\n",
              "    fill: var(--disabled-fill-color);\n",
              "    box-shadow: none;\n",
              "  }\n",
              "\n",
              "  .colab-df-spinner {\n",
              "    border: 2px solid var(--fill-color);\n",
              "    border-color: transparent;\n",
              "    border-bottom-color: var(--fill-color);\n",
              "    animation:\n",
              "      spin 1s steps(1) infinite;\n",
              "  }\n",
              "\n",
              "  @keyframes spin {\n",
              "    0% {\n",
              "      border-color: transparent;\n",
              "      border-bottom-color: var(--fill-color);\n",
              "      border-left-color: var(--fill-color);\n",
              "    }\n",
              "    20% {\n",
              "      border-color: transparent;\n",
              "      border-left-color: var(--fill-color);\n",
              "      border-top-color: var(--fill-color);\n",
              "    }\n",
              "    30% {\n",
              "      border-color: transparent;\n",
              "      border-left-color: var(--fill-color);\n",
              "      border-top-color: var(--fill-color);\n",
              "      border-right-color: var(--fill-color);\n",
              "    }\n",
              "    40% {\n",
              "      border-color: transparent;\n",
              "      border-right-color: var(--fill-color);\n",
              "      border-top-color: var(--fill-color);\n",
              "    }\n",
              "    60% {\n",
              "      border-color: transparent;\n",
              "      border-right-color: var(--fill-color);\n",
              "    }\n",
              "    80% {\n",
              "      border-color: transparent;\n",
              "      border-right-color: var(--fill-color);\n",
              "      border-bottom-color: var(--fill-color);\n",
              "    }\n",
              "    90% {\n",
              "      border-color: transparent;\n",
              "      border-bottom-color: var(--fill-color);\n",
              "    }\n",
              "  }\n",
              "</style>\n",
              "\n",
              "  <script>\n",
              "    async function quickchart(key) {\n",
              "      const quickchartButtonEl =\n",
              "        document.querySelector('#' + key + ' button');\n",
              "      quickchartButtonEl.disabled = true;  // To prevent multiple clicks.\n",
              "      quickchartButtonEl.classList.add('colab-df-spinner');\n",
              "      try {\n",
              "        const charts = await google.colab.kernel.invokeFunction(\n",
              "            'suggestCharts', [key], {});\n",
              "      } catch (error) {\n",
              "        console.error('Error during call to suggestCharts:', error);\n",
              "      }\n",
              "      quickchartButtonEl.classList.remove('colab-df-spinner');\n",
              "      quickchartButtonEl.classList.add('colab-df-quickchart-complete');\n",
              "    }\n",
              "    (() => {\n",
              "      let quickchartButtonEl =\n",
              "        document.querySelector('#df-9aad146b-f441-42ef-89a9-756bd9a4f670 button');\n",
              "      quickchartButtonEl.style.display =\n",
              "        google.colab.kernel.accessAllowed ? 'block' : 'none';\n",
              "    })();\n",
              "  </script>\n",
              "</div>\n",
              "\n",
              "    </div>\n",
              "  </div>\n"
            ],
            "application/vnd.google.colaboratory.intrinsic+json": {
              "type": "dataframe",
              "variable_name": "x",
              "summary": "{\n  \"name\": \"x\",\n  \"rows\": 569,\n  \"fields\": [\n    {\n      \"column\": \"radius1\",\n      \"properties\": {\n        \"dtype\": \"number\",\n        \"std\": 3.524048826212078,\n        \"min\": 6.981,\n        \"max\": 28.11,\n        \"num_unique_values\": 456,\n        \"samples\": [\n          11.87,\n          13.44,\n          12.96\n        ],\n        \"semantic_type\": \"\",\n        \"description\": \"\"\n      }\n    },\n    {\n      \"column\": \"texture1\",\n      \"properties\": {\n        \"dtype\": \"number\",\n        \"std\": 4.301035768166949,\n        \"min\": 9.71,\n        \"max\": 39.28,\n        \"num_unique_values\": 479,\n        \"samples\": [\n          17.84,\n          17.07,\n          18.57\n        ],\n        \"semantic_type\": \"\",\n        \"description\": \"\"\n      }\n    },\n    {\n      \"column\": \"perimeter1\",\n      \"properties\": {\n        \"dtype\": \"number\",\n        \"std\": 24.2989810387549,\n        \"min\": 43.79,\n        \"max\": 188.5,\n        \"num_unique_values\": 522,\n        \"samples\": [\n          92.25,\n          76.38,\n          119.6\n        ],\n        \"semantic_type\": \"\",\n        \"description\": \"\"\n      }\n    },\n    {\n      \"column\": \"area1\",\n      \"properties\": {\n        \"dtype\": \"number\",\n        \"std\": 351.9141291816527,\n        \"min\": 143.5,\n        \"max\": 2501.0,\n        \"num_unique_values\": 539,\n        \"samples\": [\n          556.7,\n          584.1,\n          458.4\n        ],\n        \"semantic_type\": \"\",\n        \"description\": \"\"\n      }\n    },\n    {\n      \"column\": \"smoothness1\",\n      \"properties\": {\n        \"dtype\": \"number\",\n        \"std\": 0.014064128137673616,\n        \"min\": 0.05263,\n        \"max\": 0.1634,\n        \"num_unique_values\": 474,\n        \"samples\": [\n          0.09427,\n          0.09003,\n          0.1186\n        ],\n        \"semantic_type\": \"\",\n        \"description\": \"\"\n      }\n    },\n    {\n      \"column\": \"compactness1\",\n      \"properties\": {\n        \"dtype\": \"number\",\n        \"std\": 0.0528127579325122,\n        \"min\": 0.01938,\n        \"max\": 0.3454,\n        \"num_unique_values\": 537,\n        \"samples\": [\n          0.1661,\n          0.128,\n          0.06373\n        ],\n        \"semantic_type\": \"\",\n        \"description\": \"\"\n      }\n    },\n    {\n      \"column\": \"concavity1\",\n      \"properties\": {\n        \"dtype\": \"number\",\n        \"std\": 0.0797198087078935,\n        \"min\": 0.0,\n        \"max\": 0.4268,\n        \"num_unique_values\": 537,\n        \"samples\": [\n          0.1411,\n          0.03372,\n          0.0271\n        ],\n        \"semantic_type\": \"\",\n        \"description\": \"\"\n      }\n    },\n    {\n      \"column\": \"concave_points1\",\n      \"properties\": {\n        \"dtype\": \"number\",\n        \"std\": 0.03880284485915359,\n        \"min\": 0.0,\n        \"max\": 0.2012,\n        \"num_unique_values\": 542,\n        \"samples\": [\n          0.1255,\n          0.05069,\n          0.07785\n        ],\n        \"semantic_type\": \"\",\n        \"description\": \"\"\n      }\n    },\n    {\n      \"column\": \"symmetry1\",\n      \"properties\": {\n        \"dtype\": \"number\",\n        \"std\": 0.027414281336035712,\n        \"min\": 0.106,\n        \"max\": 0.304,\n        \"num_unique_values\": 432,\n        \"samples\": [\n          0.1742,\n          0.1829,\n          0.1506\n        ],\n        \"semantic_type\": \"\",\n        \"description\": \"\"\n      }\n    },\n    {\n      \"column\": \"fractal_dimension1\",\n      \"properties\": {\n        \"dtype\": \"number\",\n        \"std\": 0.007060362795084459,\n        \"min\": 0.04996,\n        \"max\": 0.09744,\n        \"num_unique_values\": 499,\n        \"samples\": [\n          0.06739,\n          0.05914,\n          0.05754\n        ],\n        \"semantic_type\": \"\",\n        \"description\": \"\"\n      }\n    }\n  ]\n}"
            }
          },
          "metadata": {},
          "execution_count": 28
        }
      ]
    },
    {
      "cell_type": "code",
      "source": [
        "#Display the first few rows of the target:\n",
        "y.head()"
      ],
      "metadata": {
        "colab": {
          "base_uri": "https://localhost:8080/",
          "height": 206
        },
        "id": "Xx1k1bA0dFvd",
        "outputId": "ac7a3aff-3f62-444c-905e-e4f9afcf95de"
      },
      "execution_count": null,
      "outputs": [
        {
          "output_type": "execute_result",
          "data": {
            "text/plain": [
              "  Diagnosis\n",
              "0         M\n",
              "1         M\n",
              "2         M\n",
              "3         M\n",
              "4         M"
            ],
            "text/html": [
              "\n",
              "  <div id=\"df-42721f12-6d25-4011-8be0-f0d54314c986\" class=\"colab-df-container\">\n",
              "    <div>\n",
              "<style scoped>\n",
              "    .dataframe tbody tr th:only-of-type {\n",
              "        vertical-align: middle;\n",
              "    }\n",
              "\n",
              "    .dataframe tbody tr th {\n",
              "        vertical-align: top;\n",
              "    }\n",
              "\n",
              "    .dataframe thead th {\n",
              "        text-align: right;\n",
              "    }\n",
              "</style>\n",
              "<table border=\"1\" class=\"dataframe\">\n",
              "  <thead>\n",
              "    <tr style=\"text-align: right;\">\n",
              "      <th></th>\n",
              "      <th>Diagnosis</th>\n",
              "    </tr>\n",
              "  </thead>\n",
              "  <tbody>\n",
              "    <tr>\n",
              "      <th>0</th>\n",
              "      <td>M</td>\n",
              "    </tr>\n",
              "    <tr>\n",
              "      <th>1</th>\n",
              "      <td>M</td>\n",
              "    </tr>\n",
              "    <tr>\n",
              "      <th>2</th>\n",
              "      <td>M</td>\n",
              "    </tr>\n",
              "    <tr>\n",
              "      <th>3</th>\n",
              "      <td>M</td>\n",
              "    </tr>\n",
              "    <tr>\n",
              "      <th>4</th>\n",
              "      <td>M</td>\n",
              "    </tr>\n",
              "  </tbody>\n",
              "</table>\n",
              "</div>\n",
              "    <div class=\"colab-df-buttons\">\n",
              "\n",
              "  <div class=\"colab-df-container\">\n",
              "    <button class=\"colab-df-convert\" onclick=\"convertToInteractive('df-42721f12-6d25-4011-8be0-f0d54314c986')\"\n",
              "            title=\"Convert this dataframe to an interactive table.\"\n",
              "            style=\"display:none;\">\n",
              "\n",
              "  <svg xmlns=\"http://www.w3.org/2000/svg\" height=\"24px\" viewBox=\"0 -960 960 960\">\n",
              "    <path d=\"M120-120v-720h720v720H120Zm60-500h600v-160H180v160Zm220 220h160v-160H400v160Zm0 220h160v-160H400v160ZM180-400h160v-160H180v160Zm440 0h160v-160H620v160ZM180-180h160v-160H180v160Zm440 0h160v-160H620v160Z\"/>\n",
              "  </svg>\n",
              "    </button>\n",
              "\n",
              "  <style>\n",
              "    .colab-df-container {\n",
              "      display:flex;\n",
              "      gap: 12px;\n",
              "    }\n",
              "\n",
              "    .colab-df-convert {\n",
              "      background-color: #E8F0FE;\n",
              "      border: none;\n",
              "      border-radius: 50%;\n",
              "      cursor: pointer;\n",
              "      display: none;\n",
              "      fill: #1967D2;\n",
              "      height: 32px;\n",
              "      padding: 0 0 0 0;\n",
              "      width: 32px;\n",
              "    }\n",
              "\n",
              "    .colab-df-convert:hover {\n",
              "      background-color: #E2EBFA;\n",
              "      box-shadow: 0px 1px 2px rgba(60, 64, 67, 0.3), 0px 1px 3px 1px rgba(60, 64, 67, 0.15);\n",
              "      fill: #174EA6;\n",
              "    }\n",
              "\n",
              "    .colab-df-buttons div {\n",
              "      margin-bottom: 4px;\n",
              "    }\n",
              "\n",
              "    [theme=dark] .colab-df-convert {\n",
              "      background-color: #3B4455;\n",
              "      fill: #D2E3FC;\n",
              "    }\n",
              "\n",
              "    [theme=dark] .colab-df-convert:hover {\n",
              "      background-color: #434B5C;\n",
              "      box-shadow: 0px 1px 3px 1px rgba(0, 0, 0, 0.15);\n",
              "      filter: drop-shadow(0px 1px 2px rgba(0, 0, 0, 0.3));\n",
              "      fill: #FFFFFF;\n",
              "    }\n",
              "  </style>\n",
              "\n",
              "    <script>\n",
              "      const buttonEl =\n",
              "        document.querySelector('#df-42721f12-6d25-4011-8be0-f0d54314c986 button.colab-df-convert');\n",
              "      buttonEl.style.display =\n",
              "        google.colab.kernel.accessAllowed ? 'block' : 'none';\n",
              "\n",
              "      async function convertToInteractive(key) {\n",
              "        const element = document.querySelector('#df-42721f12-6d25-4011-8be0-f0d54314c986');\n",
              "        const dataTable =\n",
              "          await google.colab.kernel.invokeFunction('convertToInteractive',\n",
              "                                                    [key], {});\n",
              "        if (!dataTable) return;\n",
              "\n",
              "        const docLinkHtml = 'Like what you see? Visit the ' +\n",
              "          '<a target=\"_blank\" href=https://colab.research.google.com/notebooks/data_table.ipynb>data table notebook</a>'\n",
              "          + ' to learn more about interactive tables.';\n",
              "        element.innerHTML = '';\n",
              "        dataTable['output_type'] = 'display_data';\n",
              "        await google.colab.output.renderOutput(dataTable, element);\n",
              "        const docLink = document.createElement('div');\n",
              "        docLink.innerHTML = docLinkHtml;\n",
              "        element.appendChild(docLink);\n",
              "      }\n",
              "    </script>\n",
              "  </div>\n",
              "\n",
              "\n",
              "<div id=\"df-78394b25-8dd8-410f-b12b-d47de1f94c50\">\n",
              "  <button class=\"colab-df-quickchart\" onclick=\"quickchart('df-78394b25-8dd8-410f-b12b-d47de1f94c50')\"\n",
              "            title=\"Suggest charts\"\n",
              "            style=\"display:none;\">\n",
              "\n",
              "<svg xmlns=\"http://www.w3.org/2000/svg\" height=\"24px\"viewBox=\"0 0 24 24\"\n",
              "     width=\"24px\">\n",
              "    <g>\n",
              "        <path d=\"M19 3H5c-1.1 0-2 .9-2 2v14c0 1.1.9 2 2 2h14c1.1 0 2-.9 2-2V5c0-1.1-.9-2-2-2zM9 17H7v-7h2v7zm4 0h-2V7h2v10zm4 0h-2v-4h2v4z\"/>\n",
              "    </g>\n",
              "</svg>\n",
              "  </button>\n",
              "\n",
              "<style>\n",
              "  .colab-df-quickchart {\n",
              "      --bg-color: #E8F0FE;\n",
              "      --fill-color: #1967D2;\n",
              "      --hover-bg-color: #E2EBFA;\n",
              "      --hover-fill-color: #174EA6;\n",
              "      --disabled-fill-color: #AAA;\n",
              "      --disabled-bg-color: #DDD;\n",
              "  }\n",
              "\n",
              "  [theme=dark] .colab-df-quickchart {\n",
              "      --bg-color: #3B4455;\n",
              "      --fill-color: #D2E3FC;\n",
              "      --hover-bg-color: #434B5C;\n",
              "      --hover-fill-color: #FFFFFF;\n",
              "      --disabled-bg-color: #3B4455;\n",
              "      --disabled-fill-color: #666;\n",
              "  }\n",
              "\n",
              "  .colab-df-quickchart {\n",
              "    background-color: var(--bg-color);\n",
              "    border: none;\n",
              "    border-radius: 50%;\n",
              "    cursor: pointer;\n",
              "    display: none;\n",
              "    fill: var(--fill-color);\n",
              "    height: 32px;\n",
              "    padding: 0;\n",
              "    width: 32px;\n",
              "  }\n",
              "\n",
              "  .colab-df-quickchart:hover {\n",
              "    background-color: var(--hover-bg-color);\n",
              "    box-shadow: 0 1px 2px rgba(60, 64, 67, 0.3), 0 1px 3px 1px rgba(60, 64, 67, 0.15);\n",
              "    fill: var(--button-hover-fill-color);\n",
              "  }\n",
              "\n",
              "  .colab-df-quickchart-complete:disabled,\n",
              "  .colab-df-quickchart-complete:disabled:hover {\n",
              "    background-color: var(--disabled-bg-color);\n",
              "    fill: var(--disabled-fill-color);\n",
              "    box-shadow: none;\n",
              "  }\n",
              "\n",
              "  .colab-df-spinner {\n",
              "    border: 2px solid var(--fill-color);\n",
              "    border-color: transparent;\n",
              "    border-bottom-color: var(--fill-color);\n",
              "    animation:\n",
              "      spin 1s steps(1) infinite;\n",
              "  }\n",
              "\n",
              "  @keyframes spin {\n",
              "    0% {\n",
              "      border-color: transparent;\n",
              "      border-bottom-color: var(--fill-color);\n",
              "      border-left-color: var(--fill-color);\n",
              "    }\n",
              "    20% {\n",
              "      border-color: transparent;\n",
              "      border-left-color: var(--fill-color);\n",
              "      border-top-color: var(--fill-color);\n",
              "    }\n",
              "    30% {\n",
              "      border-color: transparent;\n",
              "      border-left-color: var(--fill-color);\n",
              "      border-top-color: var(--fill-color);\n",
              "      border-right-color: var(--fill-color);\n",
              "    }\n",
              "    40% {\n",
              "      border-color: transparent;\n",
              "      border-right-color: var(--fill-color);\n",
              "      border-top-color: var(--fill-color);\n",
              "    }\n",
              "    60% {\n",
              "      border-color: transparent;\n",
              "      border-right-color: var(--fill-color);\n",
              "    }\n",
              "    80% {\n",
              "      border-color: transparent;\n",
              "      border-right-color: var(--fill-color);\n",
              "      border-bottom-color: var(--fill-color);\n",
              "    }\n",
              "    90% {\n",
              "      border-color: transparent;\n",
              "      border-bottom-color: var(--fill-color);\n",
              "    }\n",
              "  }\n",
              "</style>\n",
              "\n",
              "  <script>\n",
              "    async function quickchart(key) {\n",
              "      const quickchartButtonEl =\n",
              "        document.querySelector('#' + key + ' button');\n",
              "      quickchartButtonEl.disabled = true;  // To prevent multiple clicks.\n",
              "      quickchartButtonEl.classList.add('colab-df-spinner');\n",
              "      try {\n",
              "        const charts = await google.colab.kernel.invokeFunction(\n",
              "            'suggestCharts', [key], {});\n",
              "      } catch (error) {\n",
              "        console.error('Error during call to suggestCharts:', error);\n",
              "      }\n",
              "      quickchartButtonEl.classList.remove('colab-df-spinner');\n",
              "      quickchartButtonEl.classList.add('colab-df-quickchart-complete');\n",
              "    }\n",
              "    (() => {\n",
              "      let quickchartButtonEl =\n",
              "        document.querySelector('#df-78394b25-8dd8-410f-b12b-d47de1f94c50 button');\n",
              "      quickchartButtonEl.style.display =\n",
              "        google.colab.kernel.accessAllowed ? 'block' : 'none';\n",
              "    })();\n",
              "  </script>\n",
              "</div>\n",
              "\n",
              "    </div>\n",
              "  </div>\n"
            ],
            "application/vnd.google.colaboratory.intrinsic+json": {
              "type": "dataframe",
              "variable_name": "y",
              "summary": "{\n  \"name\": \"y\",\n  \"rows\": 569,\n  \"fields\": [\n    {\n      \"column\": \"Diagnosis\",\n      \"properties\": {\n        \"dtype\": \"category\",\n        \"num_unique_values\": 2,\n        \"samples\": [\n          \"B\",\n          \"M\"\n        ],\n        \"semantic_type\": \"\",\n        \"description\": \"\"\n      }\n    }\n  ]\n}"
            }
          },
          "metadata": {},
          "execution_count": 29
        }
      ]
    },
    {
      "cell_type": "markdown",
      "source": [
        "**Convert the target labels from 'M' and 'B' to binary form:**\n"
      ],
      "metadata": {
        "id": "n6oHzi9_dUQV"
      }
    },
    {
      "cell_type": "code",
      "source": [
        "# Ensure that we are working with a copy of the DataFrame to avoid SettingWithCopyWarning\n",
        "y_copy = y.copy()\n",
        "\n",
        "# Replacing the labels from M and B to 1 and 0, respectively\n",
        "y_copy['Diagnosis'] = y_copy['Diagnosis'].apply(lambda x: 1 if x == 'M' else 0).astype(int)\n",
        "\n",
        "# Display the first few rows to check the changes\n",
        "y_copy.head()"
      ],
      "metadata": {
        "colab": {
          "base_uri": "https://localhost:8080/",
          "height": 206
        },
        "id": "_C9qrIizdYG6",
        "outputId": "d2fcd0b4-7f8d-47bb-da0b-1989ad317b53"
      },
      "execution_count": null,
      "outputs": [
        {
          "output_type": "execute_result",
          "data": {
            "text/plain": [
              "   Diagnosis\n",
              "0          1\n",
              "1          1\n",
              "2          1\n",
              "3          1\n",
              "4          1"
            ],
            "text/html": [
              "\n",
              "  <div id=\"df-b3497896-769f-4a22-b58c-d70095fa9011\" class=\"colab-df-container\">\n",
              "    <div>\n",
              "<style scoped>\n",
              "    .dataframe tbody tr th:only-of-type {\n",
              "        vertical-align: middle;\n",
              "    }\n",
              "\n",
              "    .dataframe tbody tr th {\n",
              "        vertical-align: top;\n",
              "    }\n",
              "\n",
              "    .dataframe thead th {\n",
              "        text-align: right;\n",
              "    }\n",
              "</style>\n",
              "<table border=\"1\" class=\"dataframe\">\n",
              "  <thead>\n",
              "    <tr style=\"text-align: right;\">\n",
              "      <th></th>\n",
              "      <th>Diagnosis</th>\n",
              "    </tr>\n",
              "  </thead>\n",
              "  <tbody>\n",
              "    <tr>\n",
              "      <th>0</th>\n",
              "      <td>1</td>\n",
              "    </tr>\n",
              "    <tr>\n",
              "      <th>1</th>\n",
              "      <td>1</td>\n",
              "    </tr>\n",
              "    <tr>\n",
              "      <th>2</th>\n",
              "      <td>1</td>\n",
              "    </tr>\n",
              "    <tr>\n",
              "      <th>3</th>\n",
              "      <td>1</td>\n",
              "    </tr>\n",
              "    <tr>\n",
              "      <th>4</th>\n",
              "      <td>1</td>\n",
              "    </tr>\n",
              "  </tbody>\n",
              "</table>\n",
              "</div>\n",
              "    <div class=\"colab-df-buttons\">\n",
              "\n",
              "  <div class=\"colab-df-container\">\n",
              "    <button class=\"colab-df-convert\" onclick=\"convertToInteractive('df-b3497896-769f-4a22-b58c-d70095fa9011')\"\n",
              "            title=\"Convert this dataframe to an interactive table.\"\n",
              "            style=\"display:none;\">\n",
              "\n",
              "  <svg xmlns=\"http://www.w3.org/2000/svg\" height=\"24px\" viewBox=\"0 -960 960 960\">\n",
              "    <path d=\"M120-120v-720h720v720H120Zm60-500h600v-160H180v160Zm220 220h160v-160H400v160Zm0 220h160v-160H400v160ZM180-400h160v-160H180v160Zm440 0h160v-160H620v160ZM180-180h160v-160H180v160Zm440 0h160v-160H620v160Z\"/>\n",
              "  </svg>\n",
              "    </button>\n",
              "\n",
              "  <style>\n",
              "    .colab-df-container {\n",
              "      display:flex;\n",
              "      gap: 12px;\n",
              "    }\n",
              "\n",
              "    .colab-df-convert {\n",
              "      background-color: #E8F0FE;\n",
              "      border: none;\n",
              "      border-radius: 50%;\n",
              "      cursor: pointer;\n",
              "      display: none;\n",
              "      fill: #1967D2;\n",
              "      height: 32px;\n",
              "      padding: 0 0 0 0;\n",
              "      width: 32px;\n",
              "    }\n",
              "\n",
              "    .colab-df-convert:hover {\n",
              "      background-color: #E2EBFA;\n",
              "      box-shadow: 0px 1px 2px rgba(60, 64, 67, 0.3), 0px 1px 3px 1px rgba(60, 64, 67, 0.15);\n",
              "      fill: #174EA6;\n",
              "    }\n",
              "\n",
              "    .colab-df-buttons div {\n",
              "      margin-bottom: 4px;\n",
              "    }\n",
              "\n",
              "    [theme=dark] .colab-df-convert {\n",
              "      background-color: #3B4455;\n",
              "      fill: #D2E3FC;\n",
              "    }\n",
              "\n",
              "    [theme=dark] .colab-df-convert:hover {\n",
              "      background-color: #434B5C;\n",
              "      box-shadow: 0px 1px 3px 1px rgba(0, 0, 0, 0.15);\n",
              "      filter: drop-shadow(0px 1px 2px rgba(0, 0, 0, 0.3));\n",
              "      fill: #FFFFFF;\n",
              "    }\n",
              "  </style>\n",
              "\n",
              "    <script>\n",
              "      const buttonEl =\n",
              "        document.querySelector('#df-b3497896-769f-4a22-b58c-d70095fa9011 button.colab-df-convert');\n",
              "      buttonEl.style.display =\n",
              "        google.colab.kernel.accessAllowed ? 'block' : 'none';\n",
              "\n",
              "      async function convertToInteractive(key) {\n",
              "        const element = document.querySelector('#df-b3497896-769f-4a22-b58c-d70095fa9011');\n",
              "        const dataTable =\n",
              "          await google.colab.kernel.invokeFunction('convertToInteractive',\n",
              "                                                    [key], {});\n",
              "        if (!dataTable) return;\n",
              "\n",
              "        const docLinkHtml = 'Like what you see? Visit the ' +\n",
              "          '<a target=\"_blank\" href=https://colab.research.google.com/notebooks/data_table.ipynb>data table notebook</a>'\n",
              "          + ' to learn more about interactive tables.';\n",
              "        element.innerHTML = '';\n",
              "        dataTable['output_type'] = 'display_data';\n",
              "        await google.colab.output.renderOutput(dataTable, element);\n",
              "        const docLink = document.createElement('div');\n",
              "        docLink.innerHTML = docLinkHtml;\n",
              "        element.appendChild(docLink);\n",
              "      }\n",
              "    </script>\n",
              "  </div>\n",
              "\n",
              "\n",
              "<div id=\"df-7fc87e40-d694-464e-bf7a-655fd6c7180d\">\n",
              "  <button class=\"colab-df-quickchart\" onclick=\"quickchart('df-7fc87e40-d694-464e-bf7a-655fd6c7180d')\"\n",
              "            title=\"Suggest charts\"\n",
              "            style=\"display:none;\">\n",
              "\n",
              "<svg xmlns=\"http://www.w3.org/2000/svg\" height=\"24px\"viewBox=\"0 0 24 24\"\n",
              "     width=\"24px\">\n",
              "    <g>\n",
              "        <path d=\"M19 3H5c-1.1 0-2 .9-2 2v14c0 1.1.9 2 2 2h14c1.1 0 2-.9 2-2V5c0-1.1-.9-2-2-2zM9 17H7v-7h2v7zm4 0h-2V7h2v10zm4 0h-2v-4h2v4z\"/>\n",
              "    </g>\n",
              "</svg>\n",
              "  </button>\n",
              "\n",
              "<style>\n",
              "  .colab-df-quickchart {\n",
              "      --bg-color: #E8F0FE;\n",
              "      --fill-color: #1967D2;\n",
              "      --hover-bg-color: #E2EBFA;\n",
              "      --hover-fill-color: #174EA6;\n",
              "      --disabled-fill-color: #AAA;\n",
              "      --disabled-bg-color: #DDD;\n",
              "  }\n",
              "\n",
              "  [theme=dark] .colab-df-quickchart {\n",
              "      --bg-color: #3B4455;\n",
              "      --fill-color: #D2E3FC;\n",
              "      --hover-bg-color: #434B5C;\n",
              "      --hover-fill-color: #FFFFFF;\n",
              "      --disabled-bg-color: #3B4455;\n",
              "      --disabled-fill-color: #666;\n",
              "  }\n",
              "\n",
              "  .colab-df-quickchart {\n",
              "    background-color: var(--bg-color);\n",
              "    border: none;\n",
              "    border-radius: 50%;\n",
              "    cursor: pointer;\n",
              "    display: none;\n",
              "    fill: var(--fill-color);\n",
              "    height: 32px;\n",
              "    padding: 0;\n",
              "    width: 32px;\n",
              "  }\n",
              "\n",
              "  .colab-df-quickchart:hover {\n",
              "    background-color: var(--hover-bg-color);\n",
              "    box-shadow: 0 1px 2px rgba(60, 64, 67, 0.3), 0 1px 3px 1px rgba(60, 64, 67, 0.15);\n",
              "    fill: var(--button-hover-fill-color);\n",
              "  }\n",
              "\n",
              "  .colab-df-quickchart-complete:disabled,\n",
              "  .colab-df-quickchart-complete:disabled:hover {\n",
              "    background-color: var(--disabled-bg-color);\n",
              "    fill: var(--disabled-fill-color);\n",
              "    box-shadow: none;\n",
              "  }\n",
              "\n",
              "  .colab-df-spinner {\n",
              "    border: 2px solid var(--fill-color);\n",
              "    border-color: transparent;\n",
              "    border-bottom-color: var(--fill-color);\n",
              "    animation:\n",
              "      spin 1s steps(1) infinite;\n",
              "  }\n",
              "\n",
              "  @keyframes spin {\n",
              "    0% {\n",
              "      border-color: transparent;\n",
              "      border-bottom-color: var(--fill-color);\n",
              "      border-left-color: var(--fill-color);\n",
              "    }\n",
              "    20% {\n",
              "      border-color: transparent;\n",
              "      border-left-color: var(--fill-color);\n",
              "      border-top-color: var(--fill-color);\n",
              "    }\n",
              "    30% {\n",
              "      border-color: transparent;\n",
              "      border-left-color: var(--fill-color);\n",
              "      border-top-color: var(--fill-color);\n",
              "      border-right-color: var(--fill-color);\n",
              "    }\n",
              "    40% {\n",
              "      border-color: transparent;\n",
              "      border-right-color: var(--fill-color);\n",
              "      border-top-color: var(--fill-color);\n",
              "    }\n",
              "    60% {\n",
              "      border-color: transparent;\n",
              "      border-right-color: var(--fill-color);\n",
              "    }\n",
              "    80% {\n",
              "      border-color: transparent;\n",
              "      border-right-color: var(--fill-color);\n",
              "      border-bottom-color: var(--fill-color);\n",
              "    }\n",
              "    90% {\n",
              "      border-color: transparent;\n",
              "      border-bottom-color: var(--fill-color);\n",
              "    }\n",
              "  }\n",
              "</style>\n",
              "\n",
              "  <script>\n",
              "    async function quickchart(key) {\n",
              "      const quickchartButtonEl =\n",
              "        document.querySelector('#' + key + ' button');\n",
              "      quickchartButtonEl.disabled = true;  // To prevent multiple clicks.\n",
              "      quickchartButtonEl.classList.add('colab-df-spinner');\n",
              "      try {\n",
              "        const charts = await google.colab.kernel.invokeFunction(\n",
              "            'suggestCharts', [key], {});\n",
              "      } catch (error) {\n",
              "        console.error('Error during call to suggestCharts:', error);\n",
              "      }\n",
              "      quickchartButtonEl.classList.remove('colab-df-spinner');\n",
              "      quickchartButtonEl.classList.add('colab-df-quickchart-complete');\n",
              "    }\n",
              "    (() => {\n",
              "      let quickchartButtonEl =\n",
              "        document.querySelector('#df-7fc87e40-d694-464e-bf7a-655fd6c7180d button');\n",
              "      quickchartButtonEl.style.display =\n",
              "        google.colab.kernel.accessAllowed ? 'block' : 'none';\n",
              "    })();\n",
              "  </script>\n",
              "</div>\n",
              "\n",
              "    </div>\n",
              "  </div>\n"
            ],
            "application/vnd.google.colaboratory.intrinsic+json": {
              "type": "dataframe",
              "variable_name": "y_copy",
              "summary": "{\n  \"name\": \"y_copy\",\n  \"rows\": 569,\n  \"fields\": [\n    {\n      \"column\": \"Diagnosis\",\n      \"properties\": {\n        \"dtype\": \"number\",\n        \"std\": 0,\n        \"min\": 0,\n        \"max\": 1,\n        \"num_unique_values\": 2,\n        \"samples\": [\n          0,\n          1\n        ],\n        \"semantic_type\": \"\",\n        \"description\": \"\"\n      }\n    }\n  ]\n}"
            }
          },
          "metadata": {},
          "execution_count": 30
        }
      ]
    },
    {
      "cell_type": "markdown",
      "source": [
        "**Generate and visualize the correlation matrix:**\n",
        "\n"
      ],
      "metadata": {
        "id": "YGTamJzQe45j"
      }
    },
    {
      "cell_type": "code",
      "source": [
        "def heatmap(x):\n",
        "    corr = x.corr().round(2)\n",
        "    plt.figure(figsize=(6, 6))\n",
        "    sns.heatmap(corr, cmap='coolwarm', vmin=-1, vmax=1, center=0,\n",
        "                square=True, linewidths=.5, cbar_kws={\"shrink\": .5}, annot=True, annot_kws={\"fontsize\":7})\n",
        "    plt.show()\n",
        "\n",
        "heatmap(x)"
      ],
      "metadata": {
        "colab": {
          "base_uri": "https://localhost:8080/",
          "height": 551
        },
        "id": "tG9eWZrafDwe",
        "outputId": "ac2f44f1-1448-4a14-89be-a7f075ba141e"
      },
      "execution_count": null,
      "outputs": [
        {
          "output_type": "display_data",
          "data": {
            "text/plain": [
              "<Figure size 600x600 with 2 Axes>"
            ],
            "image/png": "[encoded data removed]"
          },
          "metadata": {}
        }
      ]
    },
    {
      "cell_type": "markdown",
      "source": [
        "**Remove features to avoid multicollinearity:**"
      ],
      "metadata": {
        "id": "NYekNbEWfeu1"
      }
    },
    {
      "cell_type": "code",
      "source": [
        "x = x[['radius1', 'texture1', 'smoothness1', 'compactness1', 'symmetry1', 'fractal_dimension1']]\n",
        "heatmap(x)"
      ],
      "metadata": {
        "colab": {
          "base_uri": "https://localhost:8080/",
          "height": 551
        },
        "id": "9Vzzja1wfgUb",
        "outputId": "7c1c0cdd-a6f9-4ef6-a9b2-1e4f9e6223e0"
      },
      "execution_count": null,
      "outputs": [
        {
          "output_type": "display_data",
          "data": {
            "text/plain": [
              "<Figure size 600x600 with 2 Axes>"
            ],
            "image/png": "[encoded data removed]"
          },
          "metadata": {}
        }
      ]
    },
    {
      "cell_type": "markdown",
      "source": [
        "#Part 3: Model Training"
      ],
      "metadata": {
        "id": "5wiIPDVAgANe"
      }
    },
    {
      "cell_type": "markdown",
      "source": [
        "Split the data into training and testing sets:"
      ],
      "metadata": {
        "id": "DnzhMWzzgHHj"
      }
    },
    {
      "cell_type": "code",
      "source": [
        "x_train, x_test, y_train, y_test = train_test_split(x, y, stratify=y, test_size=0.3, random_state=7)"
      ],
      "metadata": {
        "id": "JrjdRFIfgBms"
      },
      "execution_count": null,
      "outputs": []
    },
    {
      "cell_type": "markdown",
      "source": [
        "Create a logistic regression pipeline:"
      ],
      "metadata": {
        "id": "neIr9ehQgQ10"
      }
    },
    {
      "cell_type": "code",
      "source": [
        "from sklearn.pipeline import Pipeline\n",
        "from sklearn.preprocessing import StandardScaler\n",
        "from sklearn.linear_model import LogisticRegression\n",
        "\n",
        "# Create a pipeline with StandardScaler and LogisticRegression\n",
        "model = Pipeline([('scaler', StandardScaler()), ('model', LogisticRegression())])\n",
        "\n",
        "# Fit the pipeline to the training set (flatten y_train using ravel())\n",
        "model.fit(x_train, y_train.values.ravel())\n",
        "\n",
        "# Use the model to predict the values for the test set\n",
        "y_pred = model.predict(x_test)"
      ],
      "metadata": {
        "id": "HKLVpKLCgRdF"
      },
      "execution_count": null,
      "outputs": []
    },
    {
      "cell_type": "markdown",
      "source": [
        "Evaluate the model:"
      ],
      "metadata": {
        "id": "M8dWZIuthAtv"
      }
    },
    {
      "cell_type": "code",
      "source": [
        "print(f\"Training Accuracy = {round(model.score(x_train, y_train), 2)}\")\n",
        "print(f\"Testing Accuracy = {round(model.score(x_test, y_test), 2)}\")\n",
        "\n",
        "for key, coef in zip(x.keys(), model.named_steps['model'].coef_[0]):\n",
        "    print(f\"{key}: {round(coef, 2)}\")\n",
        "\n",
        "print(f\"Intercept: {model.named_steps['model'].intercept_}\")"
      ],
      "metadata": {
        "colab": {
          "base_uri": "https://localhost:8080/"
        },
        "id": "jcAxcHUhg18j",
        "outputId": "6f00d61b-9201-4f13-d1d8-69653786d917"
      },
      "execution_count": null,
      "outputs": [
        {
          "output_type": "stream",
          "name": "stdout",
          "text": [
            "Training Accuracy = 0.94\n",
            "Testing Accuracy = 0.92\n",
            "radius1: 3.28\n",
            "texture1: 1.2\n",
            "smoothness1: 1.05\n",
            "compactness1: 0.99\n",
            "symmetry1: 0.5\n",
            "fractal_dimension1: -0.49\n",
            "Intercept: [-0.96137444]\n"
          ]
        }
      ]
    },
    {
      "cell_type": "markdown",
      "source": [
        "Visualize the confusion matrix:"
      ],
      "metadata": {
        "id": "AZbysC4ihOGj"
      }
    },
    {
      "cell_type": "code",
      "source": [
        "cfm = confusion_matrix(y_test, y_pred)\n",
        "cm_display = ConfusionMatrixDisplay(confusion_matrix=cfm, display_labels=[\"Benign\", \"Malignant\"])\n",
        "cm_display.plot()\n",
        "plt.title('Confusion Matrix')\n",
        "plt.show()"
      ],
      "metadata": {
        "colab": {
          "base_uri": "https://localhost:8080/",
          "height": 472
        },
        "id": "U6KUahKwhRf0",
        "outputId": "7a2c164e-3285-4322-b56a-39541afdd97b"
      },
      "execution_count": null,
      "outputs": [
        {
          "output_type": "display_data",
          "data": {
            "text/plain": [
              "<Figure size 640x480 with 2 Axes>"
            ],
            "image/png": "[encoded data removed]"
          },
          "metadata": {}
        }
      ]
    },
    {
      "cell_type": "markdown",
      "source": [
        "Calculate the evaluation metrics:"
      ],
      "metadata": {
        "id": "wAFIZKNThcl0"
      }
    },
    {
      "cell_type": "code",
      "source": [
        "TN, FP, FN, TP = cfm.ravel()\n",
        "precision = TP / (TP + FP)\n",
        "recall = TP / (TP + FN)\n",
        "far = FP / (FP + TN)\n",
        "f1 = 2 * (precision * recall) / (precision + recall)\n",
        "\n",
        "print(f\"Precision: {precision}\")\n",
        "print(f\"Recall: {recall}\")\n",
        "print(f\"False Alarm Rate: {far}\")\n",
        "print(f\"F1-score: {f1}\")"
      ],
      "metadata": {
        "colab": {
          "base_uri": "https://localhost:8080/"
        },
        "id": "_PpXWDXRhdBd",
        "outputId": "ca819423-5c4d-4546-8e86-1888f7eb7af2"
      },
      "execution_count": null,
      "outputs": [
        {
          "output_type": "stream",
          "name": "stdout",
          "text": [
            "Precision: 0.9310344827586207\n",
            "Recall: 0.84375\n",
            "False Alarm Rate: 0.037383177570093455\n",
            "F1-score: 0.8852459016393444\n"
          ]
        }
      ]
    },
    {
      "cell_type": "markdown",
      "source": [
        "Plot the ROC curve:"
      ],
      "metadata": {
        "id": "mQd-XbmDhmUt"
      }
    },
    {
      "cell_type": "code",
      "source": [
        "from sklearn.pipeline import Pipeline\n",
        "from sklearn.preprocessing import StandardScaler\n",
        "from sklearn.linear_model import LogisticRegression\n",
        "from sklearn.metrics import roc_curve, roc_auc_score\n",
        "import matplotlib.pyplot as plt\n",
        "import seaborn as sns\n",
        "\n",
        "# Ensure that we are working with a copy of the DataFrame to avoid SettingWithCopyWarning\n",
        "y_copy = y.copy()\n",
        "\n",
        "# Replacing the labels from M and B to 1 and 0, respectively\n",
        "y_copy['Diagnosis'] = y_copy['Diagnosis'].apply(lambda x: 1 if x == 'M' else 0).astype(int)\n",
        "\n",
        "# Split the dataset into training and testing sets\n",
        "x_train, x_test, y_train, y_test = train_test_split(x, y_copy['Diagnosis'], stratify=y_copy['Diagnosis'], test_size=0.3, random_state=7)\n",
        "\n",
        "# Create a pipeline with StandardScaler and LogisticRegression\n",
        "model = Pipeline([('scaler', StandardScaler()), ('model', LogisticRegression())])\n",
        "\n",
        "# Fit the pipeline to the training set (flatten y_train using ravel())\n",
        "model.fit(x_train, y_train)\n",
        "\n",
        "# Use the model to predict the probabilities for the train and test set\n",
        "y_train_probs = model.predict_proba(x_train)[:, 1]\n",
        "y_test_probs = model.predict_proba(x_test)[:, 1]\n",
        "\n",
        "# Compute ROC curve and AUC for training\n",
        "fpr_train, tpr_train, _ = roc_curve(y_train, y_train_probs)\n",
        "auc_train = roc_auc_score(y_train, y_train_probs)\n",
        "\n",
        "# Compute ROC curve and AUC for testing\n",
        "fpr_test, tpr_test, _ = roc_curve(y_test, y_test_probs)\n",
        "auc_test = roc_auc_score(y_test, y_test_probs)\n",
        "\n",
        "# Set the style for the plot\n",
        "sns.set(style=\"whitegrid\")\n",
        "\n",
        "# Plot ROC curves\n",
        "plt.figure(figsize=(10, 6))\n",
        "plt.plot(fpr_train, tpr_train, label=f\"Train ROC (AUC = {auc_train:.5f})\", color='royalblue', linewidth=2)\n",
        "plt.plot(fpr_test, tpr_test, label=f\"Test ROC (AUC = {auc_test:.5f})\", color='seagreen', linewidth=2)\n",
        "plt.plot([0, 1], [0, 1], 'k--', label=\"Random Classifier (AUC = 0.50)\", linewidth=1)\n",
        "\n",
        "# Add labels and legend\n",
        "plt.title(\"ROC Curve\", fontsize=16)\n",
        "plt.xlabel(\"False Positive Rate (FPR)\", fontsize=14)\n",
        "plt.ylabel(\"True Positive Rate (TPR)\", fontsize=14)\n",
        "plt.legend(loc=\"lower right\", fontsize=12)\n",
        "plt.grid(True)\n",
        "\n",
        "# Show the plot\n",
        "plt.show()"
      ],
      "metadata": {
        "colab": {
          "base_uri": "https://localhost:8080/",
          "height": 576
        },
        "id": "ShVI7omIhl_G",
        "outputId": "4bba26a5-3d8c-4e01-ab16-df1a1de8e26f"
      },
      "execution_count": null,
      "outputs": [
        {
          "output_type": "display_data",
          "data": {
            "text/plain": [
              "<Figure size 1000x600 with 1 Axes>"
            ],
            "image/png": "[encoded data removed]"
          },
          "metadata": {}
        }
      ]
    },
    {
      "cell_type": "markdown",
      "source": [
        "#Guide Questions\n",
        "\n",
        "\n",
        "---\n",
        "\n",
        "**1. What steps are required to remove the \"Sample code number\" column?**\n",
        "\n",
        "  *Removing the \"Sample code number\" column: To remove the \"Sample code number\" column, we can use the drop method in pandas. This step is essential to eliminate any non-essential or irrelevant features from the dataset, ensuring that the model focuses on the most relevant attributes for predicting the target variable.*\n"
      ],
      "metadata": {
        "id": "SnBdUh8AjPhF"
      }
    },
    {
      "cell_type": "markdown",
      "source": [
        "\n",
        "\n",
        "---\n",
        "\n",
        "\n",
        "**2. How can the \"Class\" values be converted into binary (0 and 1) form in Python?**\n",
        "\n",
        "  *Converting \"Class\" values into binary form: The \"Class\" values can be converted into binary (0 and 1) form in Python by using the map function. This transformation is crucial for converting categorical data into a format suitable for binary classification tasks, allowing the model to interpret and learn from the target variable effectively. According to the document, the values for benign and malignant are 2 and 4, respectively. Reassign the values of the Diagnosis column with its value divided by 2, minus 1: Diagnosis = Diagnosis / 2 - 1.*\n",
        "\n"
      ],
      "metadata": {
        "id": "Hlc323tAmhdt"
      }
    },
    {
      "cell_type": "markdown",
      "source": [
        "\n",
        "\n",
        "---\n",
        "\n",
        "**3. What is the importance of splitting the dataset into training and testing sets?**\n",
        "\n",
        "*Splitting the dataset into training and testing sets is vital for evaluating the model's performance on unseen data. It helps in assessing the model's generalization ability and ensures that the model's predictive capabilities extend beyond the data it was trained on.*\n",
        "\n"
      ],
      "metadata": {
        "id": "kxdUeIpzmmWf"
      }
    },
    {
      "cell_type": "markdown",
      "source": [
        "\n",
        "\n",
        "---\n",
        "\n",
        "**4. Why is it necessary to use the stratify parameter in the train_test_split function?**\n",
        "\n",
        "*Using the stratify parameter in the train_test_split function is essential to maintain the class distribution of the original dataset in the training and testing sets. This is crucial for ensuring that the model learns from a representative sample of the data and can make accurate predictions for each class.*\n"
      ],
      "metadata": {
        "id": "PYpQdKhWmqbk"
      }
    },
    {
      "cell_type": "markdown",
      "source": [
        "\n",
        "\n",
        "---\n",
        "\n",
        "\n",
        "**5. What is logistic regression, and why is it suitable for this dataset?**\n",
        "\n",
        "*Logistic regression and its suitability for the dataset: Logistic regression is a statistical method used for binary classification tasks. It's suitable for this dataset as the target variable (\"Class\") has binary values, making logistic regression an appropriate choice for predicting the likelihood of a tumor being malignant or benign based on the given features.*\n"
      ],
      "metadata": {
        "id": "CKzpRgIpmuu1"
      }
    },
    {
      "cell_type": "markdown",
      "source": [
        "\n",
        "\n",
        "---\n",
        "**6. How can the training and testing accuracy of the logistic regression model be calculated?**\n",
        "\n",
        "*Calculating training and testing accuracy of the logistic regression model: The training and testing accuracy of the logistic regression model can be calculated using the accuracy_score function from scikit-learn. This metric provides insights into the model's performance in terms of correctly predicting the target variable for both the training and testing datasets.*\n",
        "\n"
      ],
      "metadata": {
        "id": "g38MuylYnXm2"
      }
    },
    {
      "cell_type": "markdown",
      "source": [
        "\n",
        "\n",
        "---\n",
        "**7. Which features in the dataset are most influential in determining the tumor status, and how can their importance be assessed?**:\n",
        "\n",
        "*The most influential features are radius, texture, smoothness, compactness, symmetry, and fractal dimension. Their coefficients indicate their importance.The importance of features can be assessed using the coefficients obtained from the logistic regression model. Features with higher absolute coefficients are more influential in determining the tumor status, indicating their significance in predicting the likelihood of malignancy.*\n",
        "\n",
        "\n"
      ],
      "metadata": {
        "id": "WscgZ9-5neNf"
      }
    },
    {
      "cell_type": "markdown",
      "source": [
        "\n",
        "\n",
        "---\n",
        "\n",
        "**8. How is a confusion matrix generated, and what does it represent?**\n",
        "\n",
        "*The confusion matrix can be generated using the confusion_matrix function from sklearn.metrics. It summarizes the actual and predicted values. A confusion matrix is generated using the actual and predicted values from the model. It represents the true positive, true negative, false positive, and false negative predictions, providing a comprehensive overview of the model's performance.*\n"
      ],
      "metadata": {
        "id": "VWjA0z9Ln9hf"
      }
    },
    {
      "cell_type": "markdown",
      "source": [
        "\n",
        "\n",
        "---\n",
        "\n",
        "**9. How are precision, recall, F1-score, and false alarm rate calculated from the confusion matrix?**\n",
        "\n",
        "*These metrics can be calculated from the confusion matrix using the formulas providing insights into the model's performance in terms of precision, recall, overall accuracy, and the rate of false alarms or misclassifications.\n",
        "formulas:\n",
        "Precision: TP / (TP + FP)\n",
        "Recall: TP / (TP + FN)\n",
        "False Alarm Rate: FP / (FP + TN)\n",
        "F1-score: 2 * (precision * recall) / (precision + recall)*\n"
      ],
      "metadata": {
        "id": "F6aHj1SpoDBv"
      }
    },
    {
      "cell_type": "markdown",
      "source": [
        "\n",
        "\n",
        "---\n",
        "**10. Why are these metrics important for evaluating the performance of a classifier?**\n",
        "\n",
        "*These metrics are important for evaluating the performance of a classifier and can be prioritized based on the use case. These metrics provide a comprehensive understanding of the model's predictive capabilities, including its precision, recall, and overall accuracy. They are crucial for assessing the model's performance and identifying areas for improvement.*\n",
        "\n"
      ],
      "metadata": {
        "id": "HtJ--1XQoG3_"
      }
    },
    {
      "cell_type": "markdown",
      "source": [
        "\n",
        "\n",
        "---\n",
        "\n",
        "**11. What is an ROC curve, and how is it plotted for a logistic regression model?**\n",
        "\n",
        "*The ROC curve is plotted by comparing the true positive rate and false positive rate. It helps determine the model's performance across all thresholds. An ROC curve is a graphical representation of the true positive rate against the false positive rate. It can be plotted using the roc_curve function from scikit-learn, providing insights into the model's ability to distinguish between classes and its overall performance.*\n"
      ],
      "metadata": {
        "id": "dWHXBwcpoKmP"
      }
    },
    {
      "cell_type": "markdown",
      "source": [
        "\n",
        "\n",
        "---\n",
        "**12. How is the AUC (Area Under the Curve) calculated, and what does it signify about the model's performance?**\n",
        "\n",
        "*Calculation and significance of AUC: The AUC represents the area under the ROC curve and provides a measure of the model's ability to distinguish between classes. Higher AUC values indicate better performance, signifying the model's effectiveness in making accurate predictions.*\n",
        "\n"
      ],
      "metadata": {
        "id": "LG6kOq-1oPum"
      }
    },
    {
      "cell_type": "markdown",
      "source": [
        "\n",
        "\n",
        "---\n",
        "**13. How do the training and testing ROC curves compare, and what insights can be derived from this comparison?**\n",
        "\n",
        "*The training ROC curve is usually better than the testing ROC curve. A significant deviation indicates underfitting or overfitting. Discrepancies between the training and testing ROC curves can indicate potential overfitting or underfitting issues, providing insights into the model's generalization ability and its performance on unseen data.*\n",
        "\n",
        "\n"
      ],
      "metadata": {
        "id": "LEZrjlwAoWiV"
      }
    },
    {
      "cell_type": "markdown",
      "source": [
        "\n",
        "\n",
        "---\n",
        "\n",
        "**14. What challenges did you encounter during the preprocessing or model training phases, and how did you address them?**\n",
        "\n",
        "*The main challenge was preprocessing the data due to differences in the provided dataset and documentation. Understanding the feature variations helped resolve this. Challenges may include handling missing data, feature scaling, or addressing class imbalances. These can be addressed using appropriate preprocessing techniques and model adjustments, ensuring the model's robustness and predictive accuracy.*\n"
      ],
      "metadata": {
        "id": "EmxeJE4VodjV"
      }
    },
    {
      "cell_type": "markdown",
      "source": [
        "\n",
        "\n",
        "---\n",
        "**15. If the model's performance is not satisfactory, what adjustments could be made to improve it?**\n",
        "\n",
        "*Adjustments may involve hyperparameter tuning, feature selection, addressing class imbalances, or using more advanced modeling techniques to enhance the model's performance. These adjustments are crucial for refining the model and improving its predictive capabilities.*\n",
        "\n"
      ],
      "metadata": {
        "id": "-98YfzCloiVP"
      }
    }
  ]
}
